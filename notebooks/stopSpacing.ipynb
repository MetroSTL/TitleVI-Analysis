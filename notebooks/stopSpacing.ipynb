{
 "cells": [
  {
   "cell_type": "code",
   "execution_count": 1,
   "metadata": {},
   "outputs": [],
   "source": [
    "from census import Census\n",
    "from us import states\n",
    "import pandas as pd\n",
    "from arcgis import GIS\n",
    "import arcpy"
   ]
  },
  {
   "cell_type": "code",
   "execution_count": 2,
   "metadata": {},
   "outputs": [
    {
     "output_type": "execute_result",
     "data": {
      "text/plain": [
       "      OBJECTID_1  Seq  SignID  StopID StopAbbr  \\\n",
       "0              1    1     246   14818   MCTRLP   \n",
       "1              2    2     246   15018   FOHOEB   \n",
       "2              3    3     246    2732   SKFONB   \n",
       "3              4    4     246   14484   SKMINB   \n",
       "4              5    5     246    2638   WASKEB   \n",
       "...          ...  ...     ...     ...      ...   \n",
       "7261        7262   15     246   16318   CSFAEB   \n",
       "7262        7263   16     246   16319   SACSNB   \n",
       "7263        7264   17     246   16320   SASANB   \n",
       "7264        7265   18     246   16321   SA16EB   \n",
       "7265        7266   19     246   16322   SADAEB   \n",
       "\n",
       "                                               StopName  \\\n",
       "0                                   MALLINCKRODT CENTER   \n",
       "1                             FORSYTH @ WRIGHTON WAY EB   \n",
       "2                                  SKINKER @ FORSYTH NB   \n",
       "3                                 SKINKER @ PERSHING NB   \n",
       "4                                 WATERMAN @ SKINKER EB   \n",
       "...                                                 ...   \n",
       "7261              CURTIS STEINBERG @ FALLING SPRINGS EB   \n",
       "7262       SAUGET INDUSTRIAL PKWY @ CURTIS STEINBERG NB   \n",
       "7263  SAUGET INDUSTRIAL PKWY @ SAUGET INDUSTRIAL PKW...   \n",
       "7264                     1640 SAUGET INDUSTRIAL PKWY EB   \n",
       "7265  SAUGET INDUSTRIAL PKWY @ ST. LOUIS DOWNTOWN AI...   \n",
       "\n",
       "                                    OnSt                         AtSt StopPos  \\\n",
       "0     MALLINCKRODT CENTER TRANSIT CENTER                         None      MB   \n",
       "1                           FORSYTH BLVD                 WRIGHTON WAY      MB   \n",
       "2                         N SKINKER BLVD                  FORSYTH AVE      FS   \n",
       "3                         N SKINKER BLVD                 PERSHING AVE      FS   \n",
       "4                          WATERMAN BLVD               N SKINKER BLVD      FS   \n",
       "...                                  ...                          ...     ...   \n",
       "7261                 CURTIS STEINBERG DR           FALLING SPRINGS RD      FS   \n",
       "7262              SAUGET INDUSTRIAL PKWY          CURTIS STEINBERG DR      FS   \n",
       "7263              SAUGET INDUSTRIAL PKWY       SAUGET INDUSTRIAL PKWY      NS   \n",
       "7264              SAUGET INDUSTRIAL PKWY  1640 SAUGET INDUSTRIAL PKWY      MB   \n",
       "7265              SAUGET INDUSTRIAL PKWY    ST LOUIS DOWNTOWN AIRPORT      MB   \n",
       "\n",
       "     PrefTrans  ...    GPS_Lon    GPS_Lat        Dist Field24 OBJECTID Route  \\\n",
       "0          YES  ... -90.308863  38.646948  539.646516    None       31  3001   \n",
       "1           NO  ... -90.303218  38.646148  214.504462    None       31  3001   \n",
       "2           NO  ... -90.301028  38.646613  454.976008    None       31  3001   \n",
       "3          YES  ... -90.300504  38.650178  115.122044    None       31  3001   \n",
       "4           NO  ... -90.300153  38.650840  276.972889    None       31  3001   \n",
       "...        ...  ...        ...        ...         ...     ...      ...   ...   \n",
       "7261        NO  ... -90.169422  38.585717  972.483017    None       20  4522   \n",
       "7262        NO  ... -90.159947  38.581610  200.866294    None       20  4522   \n",
       "7263        NO  ... -90.158083  38.582902  208.059836    None       20  4522   \n",
       "7264        NO  ... -90.156640  38.582127  746.271827    None       20  4522   \n",
       "7265        NO  ... -90.152379  38.578490  372.872535    None       20  4522   \n",
       "\n",
       "                     Route_Name  Service_type RouteAbbre  \\\n",
       "0                        1 Gold         Local       3001   \n",
       "1                        1 Gold         Local       3001   \n",
       "2                        1 Gold         Local       3001   \n",
       "3                        1 Gold         Local       3001   \n",
       "4                        1 Gold         Local       3001   \n",
       "...                         ...           ...        ...   \n",
       "7261  Sauget Industrial Parkway      Commuter       4522   \n",
       "7262  Sauget Industrial Parkway      Commuter       4522   \n",
       "7263  Sauget Industrial Parkway      Commuter       4522   \n",
       "7264  Sauget Industrial Parkway      Commuter       4522   \n",
       "7265  Sauget Industrial Parkway      Commuter       4522   \n",
       "\n",
       "                                                  SHAPE  \n",
       "0     {\"x\": -90.30886299999997, \"y\": 38.646948000000...  \n",
       "1     {\"x\": -90.30321799999996, \"y\": 38.646148000000...  \n",
       "2     {\"x\": -90.30102799999997, \"y\": 38.646613000000...  \n",
       "3     {\"x\": -90.30050399999999, \"y\": 38.650178000000...  \n",
       "4     {\"x\": -90.30015299999997, \"y\": 38.650840000000...  \n",
       "...                                                 ...  \n",
       "7261  {\"x\": -90.16942199999994, \"y\": 38.585717000000...  \n",
       "7262  {\"x\": -90.15994699999999, \"y\": 38.581610000000...  \n",
       "7263  {\"x\": -90.15808299999998, \"y\": 38.582902000000...  \n",
       "7264  {\"x\": -90.15663999999998, \"y\": 38.582127000000...  \n",
       "7265  {\"x\": -90.15237899999994, \"y\": 38.578490000000...  \n",
       "\n",
       "[7266 rows x 31 columns]"
      ],
      "text/html": "<div>\n<style scoped>\n    .dataframe tbody tr th:only-of-type {\n        vertical-align: middle;\n    }\n\n    .dataframe tbody tr th {\n        vertical-align: top;\n    }\n\n    .dataframe thead th {\n        text-align: right;\n    }\n</style>\n<table border=\"1\" class=\"dataframe\">\n  <thead>\n    <tr style=\"text-align: right;\">\n      <th></th>\n      <th>OBJECTID_1</th>\n      <th>Seq</th>\n      <th>SignID</th>\n      <th>StopID</th>\n      <th>StopAbbr</th>\n      <th>StopName</th>\n      <th>OnSt</th>\n      <th>AtSt</th>\n      <th>StopPos</th>\n      <th>PrefTrans</th>\n      <th>...</th>\n      <th>GPS_Lon</th>\n      <th>GPS_Lat</th>\n      <th>Dist</th>\n      <th>Field24</th>\n      <th>OBJECTID</th>\n      <th>Route</th>\n      <th>Route_Name</th>\n      <th>Service_type</th>\n      <th>RouteAbbre</th>\n      <th>SHAPE</th>\n    </tr>\n  </thead>\n  <tbody>\n    <tr>\n      <th>0</th>\n      <td>1</td>\n      <td>1</td>\n      <td>246</td>\n      <td>14818</td>\n      <td>MCTRLP</td>\n      <td>MALLINCKRODT CENTER</td>\n      <td>MALLINCKRODT CENTER TRANSIT CENTER</td>\n      <td>None</td>\n      <td>MB</td>\n      <td>YES</td>\n      <td>...</td>\n      <td>-90.308863</td>\n      <td>38.646948</td>\n      <td>539.646516</td>\n      <td>None</td>\n      <td>31</td>\n      <td>3001</td>\n      <td>1 Gold</td>\n      <td>Local</td>\n      <td>3001</td>\n      <td>{\"x\": -90.30886299999997, \"y\": 38.646948000000...</td>\n    </tr>\n    <tr>\n      <th>1</th>\n      <td>2</td>\n      <td>2</td>\n      <td>246</td>\n      <td>15018</td>\n      <td>FOHOEB</td>\n      <td>FORSYTH @ WRIGHTON WAY EB</td>\n      <td>FORSYTH BLVD</td>\n      <td>WRIGHTON WAY</td>\n      <td>MB</td>\n      <td>NO</td>\n      <td>...</td>\n      <td>-90.303218</td>\n      <td>38.646148</td>\n      <td>214.504462</td>\n      <td>None</td>\n      <td>31</td>\n      <td>3001</td>\n      <td>1 Gold</td>\n      <td>Local</td>\n      <td>3001</td>\n      <td>{\"x\": -90.30321799999996, \"y\": 38.646148000000...</td>\n    </tr>\n    <tr>\n      <th>2</th>\n      <td>3</td>\n      <td>3</td>\n      <td>246</td>\n      <td>2732</td>\n      <td>SKFONB</td>\n      <td>SKINKER @ FORSYTH NB</td>\n      <td>N SKINKER BLVD</td>\n      <td>FORSYTH AVE</td>\n      <td>FS</td>\n      <td>NO</td>\n      <td>...</td>\n      <td>-90.301028</td>\n      <td>38.646613</td>\n      <td>454.976008</td>\n      <td>None</td>\n      <td>31</td>\n      <td>3001</td>\n      <td>1 Gold</td>\n      <td>Local</td>\n      <td>3001</td>\n      <td>{\"x\": -90.30102799999997, \"y\": 38.646613000000...</td>\n    </tr>\n    <tr>\n      <th>3</th>\n      <td>4</td>\n      <td>4</td>\n      <td>246</td>\n      <td>14484</td>\n      <td>SKMINB</td>\n      <td>SKINKER @ PERSHING NB</td>\n      <td>N SKINKER BLVD</td>\n      <td>PERSHING AVE</td>\n      <td>FS</td>\n      <td>YES</td>\n      <td>...</td>\n      <td>-90.300504</td>\n      <td>38.650178</td>\n      <td>115.122044</td>\n      <td>None</td>\n      <td>31</td>\n      <td>3001</td>\n      <td>1 Gold</td>\n      <td>Local</td>\n      <td>3001</td>\n      <td>{\"x\": -90.30050399999999, \"y\": 38.650178000000...</td>\n    </tr>\n    <tr>\n      <th>4</th>\n      <td>5</td>\n      <td>5</td>\n      <td>246</td>\n      <td>2638</td>\n      <td>WASKEB</td>\n      <td>WATERMAN @ SKINKER EB</td>\n      <td>WATERMAN BLVD</td>\n      <td>N SKINKER BLVD</td>\n      <td>FS</td>\n      <td>NO</td>\n      <td>...</td>\n      <td>-90.300153</td>\n      <td>38.650840</td>\n      <td>276.972889</td>\n      <td>None</td>\n      <td>31</td>\n      <td>3001</td>\n      <td>1 Gold</td>\n      <td>Local</td>\n      <td>3001</td>\n      <td>{\"x\": -90.30015299999997, \"y\": 38.650840000000...</td>\n    </tr>\n    <tr>\n      <th>...</th>\n      <td>...</td>\n      <td>...</td>\n      <td>...</td>\n      <td>...</td>\n      <td>...</td>\n      <td>...</td>\n      <td>...</td>\n      <td>...</td>\n      <td>...</td>\n      <td>...</td>\n      <td>...</td>\n      <td>...</td>\n      <td>...</td>\n      <td>...</td>\n      <td>...</td>\n      <td>...</td>\n      <td>...</td>\n      <td>...</td>\n      <td>...</td>\n      <td>...</td>\n      <td>...</td>\n    </tr>\n    <tr>\n      <th>7261</th>\n      <td>7262</td>\n      <td>15</td>\n      <td>246</td>\n      <td>16318</td>\n      <td>CSFAEB</td>\n      <td>CURTIS STEINBERG @ FALLING SPRINGS EB</td>\n      <td>CURTIS STEINBERG DR</td>\n      <td>FALLING SPRINGS RD</td>\n      <td>FS</td>\n      <td>NO</td>\n      <td>...</td>\n      <td>-90.169422</td>\n      <td>38.585717</td>\n      <td>972.483017</td>\n      <td>None</td>\n      <td>20</td>\n      <td>4522</td>\n      <td>Sauget Industrial Parkway</td>\n      <td>Commuter</td>\n      <td>4522</td>\n      <td>{\"x\": -90.16942199999994, \"y\": 38.585717000000...</td>\n    </tr>\n    <tr>\n      <th>7262</th>\n      <td>7263</td>\n      <td>16</td>\n      <td>246</td>\n      <td>16319</td>\n      <td>SACSNB</td>\n      <td>SAUGET INDUSTRIAL PKWY @ CURTIS STEINBERG NB</td>\n      <td>SAUGET INDUSTRIAL PKWY</td>\n      <td>CURTIS STEINBERG DR</td>\n      <td>FS</td>\n      <td>NO</td>\n      <td>...</td>\n      <td>-90.159947</td>\n      <td>38.581610</td>\n      <td>200.866294</td>\n      <td>None</td>\n      <td>20</td>\n      <td>4522</td>\n      <td>Sauget Industrial Parkway</td>\n      <td>Commuter</td>\n      <td>4522</td>\n      <td>{\"x\": -90.15994699999999, \"y\": 38.581610000000...</td>\n    </tr>\n    <tr>\n      <th>7263</th>\n      <td>7264</td>\n      <td>17</td>\n      <td>246</td>\n      <td>16320</td>\n      <td>SASANB</td>\n      <td>SAUGET INDUSTRIAL PKWY @ SAUGET INDUSTRIAL PKW...</td>\n      <td>SAUGET INDUSTRIAL PKWY</td>\n      <td>SAUGET INDUSTRIAL PKWY</td>\n      <td>NS</td>\n      <td>NO</td>\n      <td>...</td>\n      <td>-90.158083</td>\n      <td>38.582902</td>\n      <td>208.059836</td>\n      <td>None</td>\n      <td>20</td>\n      <td>4522</td>\n      <td>Sauget Industrial Parkway</td>\n      <td>Commuter</td>\n      <td>4522</td>\n      <td>{\"x\": -90.15808299999998, \"y\": 38.582902000000...</td>\n    </tr>\n    <tr>\n      <th>7264</th>\n      <td>7265</td>\n      <td>18</td>\n      <td>246</td>\n      <td>16321</td>\n      <td>SA16EB</td>\n      <td>1640 SAUGET INDUSTRIAL PKWY EB</td>\n      <td>SAUGET INDUSTRIAL PKWY</td>\n      <td>1640 SAUGET INDUSTRIAL PKWY</td>\n      <td>MB</td>\n      <td>NO</td>\n      <td>...</td>\n      <td>-90.156640</td>\n      <td>38.582127</td>\n      <td>746.271827</td>\n      <td>None</td>\n      <td>20</td>\n      <td>4522</td>\n      <td>Sauget Industrial Parkway</td>\n      <td>Commuter</td>\n      <td>4522</td>\n      <td>{\"x\": -90.15663999999998, \"y\": 38.582127000000...</td>\n    </tr>\n    <tr>\n      <th>7265</th>\n      <td>7266</td>\n      <td>19</td>\n      <td>246</td>\n      <td>16322</td>\n      <td>SADAEB</td>\n      <td>SAUGET INDUSTRIAL PKWY @ ST. LOUIS DOWNTOWN AI...</td>\n      <td>SAUGET INDUSTRIAL PKWY</td>\n      <td>ST LOUIS DOWNTOWN AIRPORT</td>\n      <td>MB</td>\n      <td>NO</td>\n      <td>...</td>\n      <td>-90.152379</td>\n      <td>38.578490</td>\n      <td>372.872535</td>\n      <td>None</td>\n      <td>20</td>\n      <td>4522</td>\n      <td>Sauget Industrial Parkway</td>\n      <td>Commuter</td>\n      <td>4522</td>\n      <td>{\"x\": -90.15237899999994, \"y\": 38.578490000000...</td>\n    </tr>\n  </tbody>\n</table>\n<p>7266 rows × 31 columns</p>\n</div>"
     },
     "metadata": {},
     "execution_count": 2
    }
   ],
   "source": [
    "sections = sdf = pd.DataFrame.spatial.from_featureclass(r\"C:\\Users\\wkjenkins\\gis\\titlevi\\20210119\\arcpro_210218\\p20\\final.gdb\\StopSpacing\")\n",
    "sections"
   ]
  },
  {
   "cell_type": "code",
   "execution_count": 75,
   "metadata": {},
   "outputs": [
    {
     "output_type": "execute_result",
     "data": {
      "text/plain": [
       "     RouteAbbr  Passing     Length  NewDir\n",
       "0         3001        0   3.129564       9\n",
       "1         3001        1   5.155673      38\n",
       "2         3002        0  11.163049      31\n",
       "3         3002        1   9.985551      72\n",
       "4         3004        0   4.332480      13\n",
       "..         ...      ...        ...     ...\n",
       "136       4502        2  57.312314     165\n",
       "137       4512        2  15.995365      13\n",
       "138       4517        2  35.656138      37\n",
       "139       4521        2   9.270968      39\n",
       "140       4522        2  10.029806      41\n",
       "\n",
       "[141 rows x 4 columns]"
      ],
      "text/html": "<div>\n<style scoped>\n    .dataframe tbody tr th:only-of-type {\n        vertical-align: middle;\n    }\n\n    .dataframe tbody tr th {\n        vertical-align: top;\n    }\n\n    .dataframe thead th {\n        text-align: right;\n    }\n</style>\n<table border=\"1\" class=\"dataframe\">\n  <thead>\n    <tr style=\"text-align: right;\">\n      <th></th>\n      <th>RouteAbbr</th>\n      <th>Passing</th>\n      <th>Length</th>\n      <th>NewDir</th>\n    </tr>\n  </thead>\n  <tbody>\n    <tr>\n      <th>0</th>\n      <td>3001</td>\n      <td>0</td>\n      <td>3.129564</td>\n      <td>9</td>\n    </tr>\n    <tr>\n      <th>1</th>\n      <td>3001</td>\n      <td>1</td>\n      <td>5.155673</td>\n      <td>38</td>\n    </tr>\n    <tr>\n      <th>2</th>\n      <td>3002</td>\n      <td>0</td>\n      <td>11.163049</td>\n      <td>31</td>\n    </tr>\n    <tr>\n      <th>3</th>\n      <td>3002</td>\n      <td>1</td>\n      <td>9.985551</td>\n      <td>72</td>\n    </tr>\n    <tr>\n      <th>4</th>\n      <td>3004</td>\n      <td>0</td>\n      <td>4.332480</td>\n      <td>13</td>\n    </tr>\n    <tr>\n      <th>...</th>\n      <td>...</td>\n      <td>...</td>\n      <td>...</td>\n      <td>...</td>\n    </tr>\n    <tr>\n      <th>136</th>\n      <td>4502</td>\n      <td>2</td>\n      <td>57.312314</td>\n      <td>165</td>\n    </tr>\n    <tr>\n      <th>137</th>\n      <td>4512</td>\n      <td>2</td>\n      <td>15.995365</td>\n      <td>13</td>\n    </tr>\n    <tr>\n      <th>138</th>\n      <td>4517</td>\n      <td>2</td>\n      <td>35.656138</td>\n      <td>37</td>\n    </tr>\n    <tr>\n      <th>139</th>\n      <td>4521</td>\n      <td>2</td>\n      <td>9.270968</td>\n      <td>39</td>\n    </tr>\n    <tr>\n      <th>140</th>\n      <td>4522</td>\n      <td>2</td>\n      <td>10.029806</td>\n      <td>41</td>\n    </tr>\n  </tbody>\n</table>\n<p>141 rows × 4 columns</p>\n</div>"
     },
     "metadata": {},
     "execution_count": 75
    }
   ],
   "source": [
    "Length_table = sections[['RouteAbbr', 'Passing', 'Length', 'NewDir']].groupby(['RouteAbbr', 'Passing'], as_index=False).agg({'Length': 'sum', 'NewDir': 'count'})\n",
    "Length_table"
   ]
  },
  {
   "cell_type": "code",
   "execution_count": 76,
   "metadata": {},
   "outputs": [
    {
     "output_type": "execute_result",
     "data": {
      "text/plain": [
       "     RouteAbbr  Passing     Length  Count\n",
       "0         3001        0   3.129564      9\n",
       "1         3001        1   5.155673     38\n",
       "2         3002        0  11.163049     31\n",
       "3         3002        1   9.985551     72\n",
       "4         3004        0   4.332480     13\n",
       "..         ...      ...        ...    ...\n",
       "136       4502        2  57.312314    165\n",
       "137       4512        2  15.995365     13\n",
       "138       4517        2  35.656138     37\n",
       "139       4521        2   9.270968     39\n",
       "140       4522        2  10.029806     41\n",
       "\n",
       "[141 rows x 4 columns]"
      ],
      "text/html": "<div>\n<style scoped>\n    .dataframe tbody tr th:only-of-type {\n        vertical-align: middle;\n    }\n\n    .dataframe tbody tr th {\n        vertical-align: top;\n    }\n\n    .dataframe thead th {\n        text-align: right;\n    }\n</style>\n<table border=\"1\" class=\"dataframe\">\n  <thead>\n    <tr style=\"text-align: right;\">\n      <th></th>\n      <th>RouteAbbr</th>\n      <th>Passing</th>\n      <th>Length</th>\n      <th>Count</th>\n    </tr>\n  </thead>\n  <tbody>\n    <tr>\n      <th>0</th>\n      <td>3001</td>\n      <td>0</td>\n      <td>3.129564</td>\n      <td>9</td>\n    </tr>\n    <tr>\n      <th>1</th>\n      <td>3001</td>\n      <td>1</td>\n      <td>5.155673</td>\n      <td>38</td>\n    </tr>\n    <tr>\n      <th>2</th>\n      <td>3002</td>\n      <td>0</td>\n      <td>11.163049</td>\n      <td>31</td>\n    </tr>\n    <tr>\n      <th>3</th>\n      <td>3002</td>\n      <td>1</td>\n      <td>9.985551</td>\n      <td>72</td>\n    </tr>\n    <tr>\n      <th>4</th>\n      <td>3004</td>\n      <td>0</td>\n      <td>4.332480</td>\n      <td>13</td>\n    </tr>\n    <tr>\n      <th>...</th>\n      <td>...</td>\n      <td>...</td>\n      <td>...</td>\n      <td>...</td>\n    </tr>\n    <tr>\n      <th>136</th>\n      <td>4502</td>\n      <td>2</td>\n      <td>57.312314</td>\n      <td>165</td>\n    </tr>\n    <tr>\n      <th>137</th>\n      <td>4512</td>\n      <td>2</td>\n      <td>15.995365</td>\n      <td>13</td>\n    </tr>\n    <tr>\n      <th>138</th>\n      <td>4517</td>\n      <td>2</td>\n      <td>35.656138</td>\n      <td>37</td>\n    </tr>\n    <tr>\n      <th>139</th>\n      <td>4521</td>\n      <td>2</td>\n      <td>9.270968</td>\n      <td>39</td>\n    </tr>\n    <tr>\n      <th>140</th>\n      <td>4522</td>\n      <td>2</td>\n      <td>10.029806</td>\n      <td>41</td>\n    </tr>\n  </tbody>\n</table>\n<p>141 rows × 4 columns</p>\n</div>"
     },
     "metadata": {},
     "execution_count": 76
    }
   ],
   "source": [
    "Length_table.rename(columns = {'NewDir' : 'Count'}, inplace = True)\n",
    "Length_table"
   ]
  },
  {
   "cell_type": "code",
   "execution_count": 77,
   "metadata": {},
   "outputs": [
    {
     "output_type": "execute_result",
     "data": {
      "text/plain": [
       "     RouteAbbr  Passing     Length  Count\n",
       "0         3001        0   3.129564      9\n",
       "2         3002        0  11.163049     31\n",
       "4         3004        0   4.332480     13\n",
       "6         3005        0   1.047415      3\n",
       "8         3008        0   8.017312     27\n",
       "..         ...      ...        ...    ...\n",
       "120       3514        0   3.729233     10\n",
       "122       3515        0   5.597535     14\n",
       "124       3516        0  13.542109     36\n",
       "126       3517        0   4.196051     10\n",
       "128       3521        0   0.881713      2\n",
       "\n",
       "[64 rows x 4 columns]"
      ],
      "text/html": "<div>\n<style scoped>\n    .dataframe tbody tr th:only-of-type {\n        vertical-align: middle;\n    }\n\n    .dataframe tbody tr th {\n        vertical-align: top;\n    }\n\n    .dataframe thead th {\n        text-align: right;\n    }\n</style>\n<table border=\"1\" class=\"dataframe\">\n  <thead>\n    <tr style=\"text-align: right;\">\n      <th></th>\n      <th>RouteAbbr</th>\n      <th>Passing</th>\n      <th>Length</th>\n      <th>Count</th>\n    </tr>\n  </thead>\n  <tbody>\n    <tr>\n      <th>0</th>\n      <td>3001</td>\n      <td>0</td>\n      <td>3.129564</td>\n      <td>9</td>\n    </tr>\n    <tr>\n      <th>2</th>\n      <td>3002</td>\n      <td>0</td>\n      <td>11.163049</td>\n      <td>31</td>\n    </tr>\n    <tr>\n      <th>4</th>\n      <td>3004</td>\n      <td>0</td>\n      <td>4.332480</td>\n      <td>13</td>\n    </tr>\n    <tr>\n      <th>6</th>\n      <td>3005</td>\n      <td>0</td>\n      <td>1.047415</td>\n      <td>3</td>\n    </tr>\n    <tr>\n      <th>8</th>\n      <td>3008</td>\n      <td>0</td>\n      <td>8.017312</td>\n      <td>27</td>\n    </tr>\n    <tr>\n      <th>...</th>\n      <td>...</td>\n      <td>...</td>\n      <td>...</td>\n      <td>...</td>\n    </tr>\n    <tr>\n      <th>120</th>\n      <td>3514</td>\n      <td>0</td>\n      <td>3.729233</td>\n      <td>10</td>\n    </tr>\n    <tr>\n      <th>122</th>\n      <td>3515</td>\n      <td>0</td>\n      <td>5.597535</td>\n      <td>14</td>\n    </tr>\n    <tr>\n      <th>124</th>\n      <td>3516</td>\n      <td>0</td>\n      <td>13.542109</td>\n      <td>36</td>\n    </tr>\n    <tr>\n      <th>126</th>\n      <td>3517</td>\n      <td>0</td>\n      <td>4.196051</td>\n      <td>10</td>\n    </tr>\n    <tr>\n      <th>128</th>\n      <td>3521</td>\n      <td>0</td>\n      <td>0.881713</td>\n      <td>2</td>\n    </tr>\n  </tbody>\n</table>\n<p>64 rows × 4 columns</p>\n</div>"
     },
     "metadata": {},
     "execution_count": 77
    }
   ],
   "source": [
    "pass_df = Length_table.loc[Length_table['Passing'] == 1]\n",
    "fail_df = Length_table.loc[Length_table['Passing'] == 0]\n",
    "fail_df"
   ]
  },
  {
   "cell_type": "code",
   "execution_count": 78,
   "metadata": {},
   "outputs": [],
   "source": [
    "merge_df = pass_df.merge(fail_df, how = 'inner', left_on='RouteAbbr', right_on='RouteAbbr', suffixes=('_pass', '_fail'))"
   ]
  },
  {
   "cell_type": "code",
   "execution_count": 79,
   "metadata": {},
   "outputs": [
    {
     "output_type": "execute_result",
     "data": {
      "text/plain": [
       "    RouteAbbr  Passing_pass  Length_pass  Count_pass  Passing_fail  \\\n",
       "0        3001             1     5.155673          38             0   \n",
       "1        3002             1     9.985551          72             0   \n",
       "2        3004             1    18.435464         124             0   \n",
       "3        3005             1     3.223800          27             0   \n",
       "4        3008             1    10.765273          66             0   \n",
       "..        ...           ...          ...         ...           ...   \n",
       "59       3514             1    11.063573          95             0   \n",
       "60       3515             1    12.897514         106             0   \n",
       "61       3516             1    27.431080         242             0   \n",
       "62       3517             1    22.796604         277             0   \n",
       "63       3521             1     2.707419          24             0   \n",
       "\n",
       "    Length_fail  Count_fail  \n",
       "0      3.129564           9  \n",
       "1     11.163049          31  \n",
       "2      4.332480          13  \n",
       "3      1.047415           3  \n",
       "4      8.017312          27  \n",
       "..          ...         ...  \n",
       "59     3.729233          10  \n",
       "60     5.597535          14  \n",
       "61    13.542109          36  \n",
       "62     4.196051          10  \n",
       "63     0.881713           2  \n",
       "\n",
       "[64 rows x 7 columns]"
      ],
      "text/html": "<div>\n<style scoped>\n    .dataframe tbody tr th:only-of-type {\n        vertical-align: middle;\n    }\n\n    .dataframe tbody tr th {\n        vertical-align: top;\n    }\n\n    .dataframe thead th {\n        text-align: right;\n    }\n</style>\n<table border=\"1\" class=\"dataframe\">\n  <thead>\n    <tr style=\"text-align: right;\">\n      <th></th>\n      <th>RouteAbbr</th>\n      <th>Passing_pass</th>\n      <th>Length_pass</th>\n      <th>Count_pass</th>\n      <th>Passing_fail</th>\n      <th>Length_fail</th>\n      <th>Count_fail</th>\n    </tr>\n  </thead>\n  <tbody>\n    <tr>\n      <th>0</th>\n      <td>3001</td>\n      <td>1</td>\n      <td>5.155673</td>\n      <td>38</td>\n      <td>0</td>\n      <td>3.129564</td>\n      <td>9</td>\n    </tr>\n    <tr>\n      <th>1</th>\n      <td>3002</td>\n      <td>1</td>\n      <td>9.985551</td>\n      <td>72</td>\n      <td>0</td>\n      <td>11.163049</td>\n      <td>31</td>\n    </tr>\n    <tr>\n      <th>2</th>\n      <td>3004</td>\n      <td>1</td>\n      <td>18.435464</td>\n      <td>124</td>\n      <td>0</td>\n      <td>4.332480</td>\n      <td>13</td>\n    </tr>\n    <tr>\n      <th>3</th>\n      <td>3005</td>\n      <td>1</td>\n      <td>3.223800</td>\n      <td>27</td>\n      <td>0</td>\n      <td>1.047415</td>\n      <td>3</td>\n    </tr>\n    <tr>\n      <th>4</th>\n      <td>3008</td>\n      <td>1</td>\n      <td>10.765273</td>\n      <td>66</td>\n      <td>0</td>\n      <td>8.017312</td>\n      <td>27</td>\n    </tr>\n    <tr>\n      <th>...</th>\n      <td>...</td>\n      <td>...</td>\n      <td>...</td>\n      <td>...</td>\n      <td>...</td>\n      <td>...</td>\n      <td>...</td>\n    </tr>\n    <tr>\n      <th>59</th>\n      <td>3514</td>\n      <td>1</td>\n      <td>11.063573</td>\n      <td>95</td>\n      <td>0</td>\n      <td>3.729233</td>\n      <td>10</td>\n    </tr>\n    <tr>\n      <th>60</th>\n      <td>3515</td>\n      <td>1</td>\n      <td>12.897514</td>\n      <td>106</td>\n      <td>0</td>\n      <td>5.597535</td>\n      <td>14</td>\n    </tr>\n    <tr>\n      <th>61</th>\n      <td>3516</td>\n      <td>1</td>\n      <td>27.431080</td>\n      <td>242</td>\n      <td>0</td>\n      <td>13.542109</td>\n      <td>36</td>\n    </tr>\n    <tr>\n      <th>62</th>\n      <td>3517</td>\n      <td>1</td>\n      <td>22.796604</td>\n      <td>277</td>\n      <td>0</td>\n      <td>4.196051</td>\n      <td>10</td>\n    </tr>\n    <tr>\n      <th>63</th>\n      <td>3521</td>\n      <td>1</td>\n      <td>2.707419</td>\n      <td>24</td>\n      <td>0</td>\n      <td>0.881713</td>\n      <td>2</td>\n    </tr>\n  </tbody>\n</table>\n<p>64 rows × 7 columns</p>\n</div>"
     },
     "metadata": {},
     "execution_count": 79
    }
   ],
   "source": [
    "merge_df"
   ]
  },
  {
   "cell_type": "code",
   "execution_count": 80,
   "metadata": {},
   "outputs": [],
   "source": [
    "merge_df['p_length_passing'] = merge_df['Length_pass'] / (merge_df['Length_fail'] + merge_df['Length_pass'])\n",
    "merge_df['p_length_failing'] = 1- merge_df['p_length_passing'] \n",
    "merge_df['p_section_passing'] = merge_df['Count_pass'] / (merge_df['Count_fail'] + merge_df['Count_pass'])\n",
    "merge_df['p_section_failing'] = 1- merge_df['p_section_passing'] \n"
   ]
  },
  {
   "cell_type": "code",
   "execution_count": 83,
   "metadata": {},
   "outputs": [],
   "source": [
    "merge_df.to_csv(os.path.join(os.getcwd(), 'StopSpacing_agg.csv'))"
   ]
  },
  {
   "cell_type": "code",
   "execution_count": null,
   "metadata": {},
   "outputs": [],
   "source": []
  }
 ],
 "metadata": {
  "kernelspec": {
   "name": "python3",
   "display_name": "Python 3",
   "language": "python"
  }
 },
 "nbformat": 4,
 "nbformat_minor": 4
}