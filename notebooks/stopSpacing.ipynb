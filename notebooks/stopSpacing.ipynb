{
 "cells": [
  {
   "cell_type": "code",
   "execution_count": 22,
   "metadata": {},
   "outputs": [
    {
     "output_type": "error",
     "ename": "ModuleNotFoundError",
     "evalue": "No module named 'helpers'",
     "traceback": [
      "\u001b[1;31m---------------------------------------------------------------------------\u001b[0m",
      "\u001b[1;31mModuleNotFoundError\u001b[0m                       Traceback (most recent call last)",
      "\u001b[1;32m<ipython-input-22-03af674df373>\u001b[0m in \u001b[0;36m<module>\u001b[1;34m\u001b[0m\n\u001b[0;32m      5\u001b[0m \u001b[1;32mimport\u001b[0m \u001b[0marcpy\u001b[0m\u001b[1;33m\u001b[0m\u001b[1;33m\u001b[0m\u001b[0m\n\u001b[0;32m      6\u001b[0m \u001b[1;33m\u001b[0m\u001b[0m\n\u001b[1;32m----> 7\u001b[1;33m \u001b[1;32mfrom\u001b[0m \u001b[0mhelpers\u001b[0m \u001b[1;32mimport\u001b[0m \u001b[1;33m*\u001b[0m\u001b[1;33m\u001b[0m\u001b[1;33m\u001b[0m\u001b[0m\n\u001b[0m",
      "\u001b[1;31mModuleNotFoundError\u001b[0m: No module named 'helpers'"
     ]
    }
   ],
   "source": [
    "from census import Census\n",
    "from us import states\n",
    "import pandas as pd\n",
    "from arcgis import GIS\n",
    "import arcpy\n",
    "\n",
    "from helpers import *\n"
   ]
  },
  {
   "cell_type": "code",
   "execution_count": 9,
   "metadata": {},
   "outputs": [],
   "source": [
    "year = '13'\n",
    "root_dir = r\"C:\\Users\\wkjenkins\\gis\\titlevi\\20210119\\new_output\"\n",
    "gdb = r\"C:\\Users\\wkjenkins\\gis\\titlevi\\20210119\\arcpro\\final.gdb\"\n",
    "routes_gdb = r\"C:\\Users\\wkjenkins\\gis\\titlevi\\20210119\\arcpro\\routes.gdb\"\n",
    "\n",
    "arcpy.env.workspace = gdb\n",
    "arcpy.ClearWorkspaceCache_management()\n",
    "\n",
    "routes_dir = os.path.join(gdb, 'MetroBusRoutes_dir__200120')\n",
    "routesRoute_field = \"RouteAbbr\"\n",
    "\n",
    "route_types = os.path.join(gdb, 'RouteTypes')\n",
    "routesTypes_field = \"RouteAbbre\"\n",
    "\n",
    "replaceGDB(root_dir, f'routes_{year}')"
   ]
  },
  {
   "cell_type": "code",
   "execution_count": null,
   "metadata": {},
   "outputs": [],
   "source": [
    "# replace join if there\n",
    "\n",
    "arcpy.RemoveJoin_management(stops)\n",
    "routesfc = arcpy.AddJoin_management(routes_dir, routesRoute_field, route_types, routesTypes_field)[0]"
   ]
  },
  {
   "cell_type": "code",
   "execution_count": null,
   "metadata": {},
   "outputs": [],
   "source": [
    "# calculated route type buffers\n",
    "\n",
    "# check for field and add if does not exist\n",
    "# checkforfield(stopsfc, 'buffer_dist', 'STRING')"
   ]
  },
  {
   "cell_type": "code",
   "execution_count": 14,
   "metadata": {},
   "outputs": [],
   "source": [
    "# # buffer by field\n",
    "# buffer_block = '''def buffer_block(type):\n",
    "#     if type.lower == 'local':\n",
    "#         return '0.25 miles'\n",
    "#     elif: type.lower == 'frequent':\n",
    "#         return '0.333 miles'\n",
    "#     else:\n",
    "#         return '0 miles'''\n",
    "\n",
    "# arcpy.CalculateField_management(stopsfc, 'buffer_dist', f\"buffer_block(!{service_type_field}!)\", \"PYTHON3\", buffer_block)\n",
    "# arcpy."
   ]
  },
  {
   "cell_type": "code",
   "execution_count": 15,
   "metadata": {},
   "outputs": [
    {
     "output_type": "error",
     "ename": "NameError",
     "evalue": "name 'replaceGDB' is not defined",
     "traceback": [
      "\u001b[1;31m---------------------------------------------------------------------------\u001b[0m",
      "\u001b[1;31mNameError\u001b[0m                                 Traceback (most recent call last)",
      "\u001b[1;32m<ipython-input-15-ae3e16df409f>\u001b[0m in \u001b[0;36m<module>\u001b[1;34m\u001b[0m\n\u001b[0;32m      1\u001b[0m \u001b[1;31m# split by route id (attributes [\"RouteAbbr\", \"DirName\"])\u001b[0m\u001b[1;33m\u001b[0m\u001b[1;33m\u001b[0m\u001b[1;33m\u001b[0m\u001b[0m\n\u001b[1;32m----> 2\u001b[1;33m \u001b[0mreplaceGDB\u001b[0m\u001b[1;33m(\u001b[0m\u001b[0mroot_dir\u001b[0m\u001b[1;33m,\u001b[0m \u001b[1;34mf'routes_split_{year}'\u001b[0m\u001b[1;33m)\u001b[0m\u001b[1;33m\u001b[0m\u001b[1;33m\u001b[0m\u001b[0m\n\u001b[0m\u001b[0;32m      3\u001b[0m \u001b[0marcpy\u001b[0m\u001b[1;33m.\u001b[0m\u001b[0mSplitByAttributes_analysis\u001b[0m\u001b[1;33m(\u001b[0m\u001b[0mroutesfc\u001b[0m\u001b[1;33m,\u001b[0m \u001b[0mos\u001b[0m\u001b[1;33m.\u001b[0m\u001b[0mpath\u001b[0m\u001b[1;33m.\u001b[0m\u001b[0mjoin\u001b[0m\u001b[1;33m(\u001b[0m\u001b[0mroot_dir\u001b[0m\u001b[1;33m,\u001b[0m \u001b[1;34mf'routes_split_{year}.gdb'\u001b[0m\u001b[1;33m)\u001b[0m\u001b[1;33m,\u001b[0m \u001b[1;33m[\u001b[0m\u001b[1;34m\"RouteAbbr\"\u001b[0m\u001b[1;33m,\u001b[0m \u001b[1;34m\"DirName\"\u001b[0m\u001b[1;33m]\u001b[0m\u001b[1;33m)\u001b[0m\u001b[1;33m\u001b[0m\u001b[1;33m\u001b[0m\u001b[0m\n",
      "\u001b[1;31mNameError\u001b[0m: name 'replaceGDB' is not defined"
     ]
    }
   ],
   "source": [
    "# split by route id (attributes [\"RouteAbbr\", \"DirName\"])\n",
    "replaceGDB(root_dir, f'routes_split_{year}')\n",
    "arcpy.SplitByAttributes_analysis(routesfc, os.path.join(root_dir, f'routes_split_{year}.gdb'), [\"RouteAbbr\", \"DirName\"])"
   ]
  },
  {
   "cell_type": "code",
   "execution_count": 13,
   "metadata": {},
   "outputs": [
    {
     "output_type": "stream",
     "name": "stdout",
     "text": [
      "hey\n"
     ]
    }
   ],
   "source": []
  }
 ],
 "metadata": {
  "kernelspec": {
   "name": "python3",
   "display_name": "Python 3",
   "language": "python"
  }
 },
 "nbformat": 4,
 "nbformat_minor": 4
}