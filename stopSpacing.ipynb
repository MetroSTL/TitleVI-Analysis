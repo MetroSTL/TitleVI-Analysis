{
 "cells": [
  {
   "cell_type": "code",
   "execution_count": 1,
   "metadata": {},
   "outputs": [],
   "source": [
    "from census import Census\n",
    "from us import states\n",
    "import pandas as pd\n",
    "from arcgis import GIS\n",
    "import arcpy\n",
    "\n",
    "from helpers import * "
   ]
  },
  {
   "cell_type": "code",
   "execution_count": 8,
   "metadata": {},
   "outputs": [],
   "source": [
    "year = '13'\n",
    "root_dir = r\"C:\\Users\\wkjenkins\\gis\\titlevi\\20210119\\new_output\"\n",
    "gdb = r\"C:\\Users\\wkjenkins\\gis\\titlevi\\20210119\\arcpro\\final.gdb\"\n",
    "routes_gdb = r\"C:\\Users\\wkjenkins\\gis\\titlevi\\20210119\\arcpro\\routes.gdb\"\n",
    "\n",
    "route_types = os.path.join(r'C:\\Users\\wkjenkins\\gis\\titlevi\\20210119\\stop-spacing', 'RouteTypes.csv')\n",
    "\n",
    "route_types = pd.read_csv(route_types)\n",
    "split_gdb = os.path.join(root_dir, f'routes_split_{year}.gdb')"
   ]
  },
  {
   "cell_type": "code",
   "execution_count": 11,
   "metadata": {},
   "outputs": [
    {
     "output_type": "execute_result",
     "data": {
      "text/plain": [
       "['OBJECTID',\n",
       " 'STP_ID',\n",
       " 'STP_ABBR',\n",
       " 'STP_NAME',\n",
       " 'ON_ST',\n",
       " 'AT_ST',\n",
       " 'STP_P',\n",
       " 'P_TRF',\n",
       " 'BNCH',\n",
       " 'SHLT',\n",
       " 'TRF',\n",
       " 'NDE_ID',\n",
       " 'I_RTE_CO',\n",
       " 'RTE_NAME',\n",
       " 'P_RTE_CO',\n",
       " 'TRAV_DIR',\n",
       " 'COUNTY',\n",
       " 'JURIS',\n",
       " 'GPS_LAT',\n",
       " 'GPS_LON',\n",
       " 'POINT_X',\n",
       " 'POINT_Y',\n",
       " 'SHAPE']"
      ]
     },
     "metadata": {},
     "execution_count": 11
    }
   ],
   "source": [
    "def direction(str):\n",
    "    if str == \"EB\":\n",
    "        return 0\n",
    "    elif str == \"WB\":\n",
    "        return 1\n",
    "    elif str == \"NB\":\n",
    "        return 1\n",
    "    elif str == \"SB\":\n",
    "        return 0\n",
    "    elif str == \"CL\":\n",
    "        return 0\n",
    "    else:\n",
    "        return -1\n",
    "\n",
    "route = 'T3001_EB'\n",
    "fea = os.path.join(split_gdb, route)\n",
    "stop_split_loc = os.path.join(arcpy.env.scratchGDB, 'stops_split')\n",
    "searchRadius = \"20 Meters\"\n",
    "fea = os.path.join(split_gdb, route)\n",
    "\n",
    "fea_pd = pd.DataFrame.spatial.from_featureclass(fea)\n",
    "\n",
    "route = fea_pd['RouteAbbr'][0]\n",
    "direction = direction(fea_pd['DirName'][0])\n",
    "\n",
    "stops_pd = pd.DataFrame.spatial.from_featureclass(os.path.join(gdb, \"MetroBusStopsByLine__200120\"))\n",
    "\n",
    "stops_pd.columns.to_list()\n",
    "stops_pd = stops_pd.loc[(stops_pd['RouteCode'] == route) & (stops_pd['Dir'] == direction)]\n",
    "stops_pd.spatial.to_featureclass(stop_split_loc)\n",
    "\n",
    "arcypy.SplitLineAtPoint_management(fea, stop_split_loc, os.path.join(split_gdb,f'{route}_split'), searchRadius)"
   ]
  },
  {
   "cell_type": "code",
   "execution_count": 3,
   "metadata": {},
   "outputs": [],
   "source": [
    "# replace join if there\n",
    "\n",
    "# arcpy.RemoveJoin_management(routes_dir)\n",
    "routesfc = arcpy.AddJoin_management(routes_dir, routesRoute_field, route_types, routesTypes_field)[0]\n"
   ]
  },
  {
   "cell_type": "code",
   "execution_count": 4,
   "metadata": {},
   "outputs": [],
   "source": [
    "# calculated route type buffers\n",
    "\n",
    "# check for field and add if does not exist\n",
    "# checkforfield(stopsfc, 'buffer_dist', 'STRING')"
   ]
  },
  {
   "cell_type": "code",
   "execution_count": 5,
   "metadata": {},
   "outputs": [],
   "source": [
    "# # buffer by field\n",
    "# buffer_block = '''def buffer_block(type):\n",
    "#     if type.lower == 'local':\n",
    "#         return '0.25 miles'\n",
    "#     elif: type.lower == 'frequent':\n",
    "#         return '0.333 miles'\n",
    "#     else:\n",
    "#         return '0 miles'''\n",
    "\n",
    "# arcpy.CalculateField_management(stopsfc, 'buffer_dist', f\"buffer_block(!{service_type_field}!)\", \"PYTHON3\", buffer_block)\n",
    "# arcpy."
   ]
  },
  {
   "cell_type": "code",
   "execution_count": 6,
   "metadata": {},
   "outputs": [
    {
     "output_type": "stream",
     "name": "stdout",
     "text": [
      "GEODATABASE CREATED!!!\n"
     ]
    },
    {
     "output_type": "error",
     "ename": "ExecuteError",
     "evalue": "ERROR 160117: The value type is incompatible with the field type.\nFailed to execute (Statistics).\n\nFailed to execute (SplitByAttributes).\n",
     "traceback": [
      "\u001b[1;31m---------------------------------------------------------------------------\u001b[0m",
      "\u001b[1;31mExecuteError\u001b[0m                              Traceback (most recent call last)",
      "\u001b[1;32m<ipython-input-6-ae3e16df409f>\u001b[0m in \u001b[0;36m<module>\u001b[1;34m\u001b[0m\n\u001b[0;32m      1\u001b[0m \u001b[1;31m# split by route id (attributes [\"RouteAbbr\", \"DirName\"])\u001b[0m\u001b[1;33m\u001b[0m\u001b[1;33m\u001b[0m\u001b[1;33m\u001b[0m\u001b[0m\n\u001b[0;32m      2\u001b[0m \u001b[0mreplaceGDB\u001b[0m\u001b[1;33m(\u001b[0m\u001b[0mroot_dir\u001b[0m\u001b[1;33m,\u001b[0m \u001b[1;34mf'routes_split_{year}'\u001b[0m\u001b[1;33m)\u001b[0m\u001b[1;33m\u001b[0m\u001b[1;33m\u001b[0m\u001b[0m\n\u001b[1;32m----> 3\u001b[1;33m \u001b[0marcpy\u001b[0m\u001b[1;33m.\u001b[0m\u001b[0mSplitByAttributes_analysis\u001b[0m\u001b[1;33m(\u001b[0m\u001b[0mroutesfc\u001b[0m\u001b[1;33m,\u001b[0m \u001b[0mos\u001b[0m\u001b[1;33m.\u001b[0m\u001b[0mpath\u001b[0m\u001b[1;33m.\u001b[0m\u001b[0mjoin\u001b[0m\u001b[1;33m(\u001b[0m\u001b[0mroot_dir\u001b[0m\u001b[1;33m,\u001b[0m \u001b[1;34mf'routes_split_{year}.gdb'\u001b[0m\u001b[1;33m)\u001b[0m\u001b[1;33m,\u001b[0m \u001b[1;33m[\u001b[0m\u001b[1;34m\"RouteAbbr\"\u001b[0m\u001b[1;33m,\u001b[0m \u001b[1;34m\"DirName\"\u001b[0m\u001b[1;33m]\u001b[0m\u001b[1;33m)\u001b[0m\u001b[1;33m\u001b[0m\u001b[1;33m\u001b[0m\u001b[0m\n\u001b[0m",
      "\u001b[1;32mC:\\Program Files\\ArcGIS\\Pro\\Resources\\ArcPy\\arcpy\\analysis.py\u001b[0m in \u001b[0;36mSplitByAttributes\u001b[1;34m(Input_Table, Target_Workspace, Split_Fields)\u001b[0m\n\u001b[0;32m    206\u001b[0m         \u001b[1;32mreturn\u001b[0m \u001b[0mretval\u001b[0m\u001b[1;33m\u001b[0m\u001b[1;33m\u001b[0m\u001b[0m\n\u001b[0;32m    207\u001b[0m     \u001b[1;32mexcept\u001b[0m \u001b[0mException\u001b[0m \u001b[1;32mas\u001b[0m \u001b[0me\u001b[0m\u001b[1;33m:\u001b[0m\u001b[1;33m\u001b[0m\u001b[1;33m\u001b[0m\u001b[0m\n\u001b[1;32m--> 208\u001b[1;33m         \u001b[1;32mraise\u001b[0m \u001b[0me\u001b[0m\u001b[1;33m\u001b[0m\u001b[1;33m\u001b[0m\u001b[0m\n\u001b[0m\u001b[0;32m    209\u001b[0m \u001b[1;33m\u001b[0m\u001b[0m\n\u001b[0;32m    210\u001b[0m \u001b[1;33m@\u001b[0m\u001b[0mgptooldoc\u001b[0m\u001b[1;33m(\u001b[0m\u001b[1;34m'TableSelect_analysis'\u001b[0m\u001b[1;33m,\u001b[0m \u001b[1;32mNone\u001b[0m\u001b[1;33m)\u001b[0m\u001b[1;33m\u001b[0m\u001b[1;33m\u001b[0m\u001b[0m\n",
      "\u001b[1;32mC:\\Program Files\\ArcGIS\\Pro\\Resources\\ArcPy\\arcpy\\analysis.py\u001b[0m in \u001b[0;36mSplitByAttributes\u001b[1;34m(Input_Table, Target_Workspace, Split_Fields)\u001b[0m\n\u001b[0;32m    203\u001b[0m     \u001b[1;32mfrom\u001b[0m \u001b[0marcpy\u001b[0m\u001b[1;33m.\u001b[0m\u001b[0marcobjects\u001b[0m\u001b[1;33m.\u001b[0m\u001b[0marcobjectconversion\u001b[0m \u001b[1;32mimport\u001b[0m \u001b[0mconvertArcObjectToPythonObject\u001b[0m\u001b[1;33m\u001b[0m\u001b[1;33m\u001b[0m\u001b[0m\n\u001b[0;32m    204\u001b[0m     \u001b[1;32mtry\u001b[0m\u001b[1;33m:\u001b[0m\u001b[1;33m\u001b[0m\u001b[1;33m\u001b[0m\u001b[0m\n\u001b[1;32m--> 205\u001b[1;33m         \u001b[0mretval\u001b[0m \u001b[1;33m=\u001b[0m \u001b[0mconvertArcObjectToPythonObject\u001b[0m\u001b[1;33m(\u001b[0m\u001b[0mgp\u001b[0m\u001b[1;33m.\u001b[0m\u001b[0mSplitByAttributes_analysis\u001b[0m\u001b[1;33m(\u001b[0m\u001b[1;33m*\u001b[0m\u001b[0mgp_fixargs\u001b[0m\u001b[1;33m(\u001b[0m\u001b[1;33m(\u001b[0m\u001b[0mInput_Table\u001b[0m\u001b[1;33m,\u001b[0m \u001b[0mTarget_Workspace\u001b[0m\u001b[1;33m,\u001b[0m \u001b[0mSplit_Fields\u001b[0m\u001b[1;33m)\u001b[0m\u001b[1;33m,\u001b[0m \u001b[1;32mTrue\u001b[0m\u001b[1;33m)\u001b[0m\u001b[1;33m)\u001b[0m\u001b[1;33m)\u001b[0m\u001b[1;33m\u001b[0m\u001b[1;33m\u001b[0m\u001b[0m\n\u001b[0m\u001b[0;32m    206\u001b[0m         \u001b[1;32mreturn\u001b[0m \u001b[0mretval\u001b[0m\u001b[1;33m\u001b[0m\u001b[1;33m\u001b[0m\u001b[0m\n\u001b[0;32m    207\u001b[0m     \u001b[1;32mexcept\u001b[0m \u001b[0mException\u001b[0m \u001b[1;32mas\u001b[0m \u001b[0me\u001b[0m\u001b[1;33m:\u001b[0m\u001b[1;33m\u001b[0m\u001b[1;33m\u001b[0m\u001b[0m\n",
      "\u001b[1;32mC:\\Program Files\\ArcGIS\\Pro\\Resources\\ArcPy\\arcpy\\geoprocessing\\_base.py\u001b[0m in \u001b[0;36m<lambda>\u001b[1;34m(*args)\u001b[0m\n\u001b[0;32m    509\u001b[0m         \u001b[0mval\u001b[0m \u001b[1;33m=\u001b[0m \u001b[0mgetattr\u001b[0m\u001b[1;33m(\u001b[0m\u001b[0mself\u001b[0m\u001b[1;33m.\u001b[0m\u001b[0m_gp\u001b[0m\u001b[1;33m,\u001b[0m \u001b[0mattr\u001b[0m\u001b[1;33m)\u001b[0m\u001b[1;33m\u001b[0m\u001b[1;33m\u001b[0m\u001b[0m\n\u001b[0;32m    510\u001b[0m         \u001b[1;32mif\u001b[0m \u001b[0mcallable\u001b[0m\u001b[1;33m(\u001b[0m\u001b[0mval\u001b[0m\u001b[1;33m)\u001b[0m\u001b[1;33m:\u001b[0m\u001b[1;33m\u001b[0m\u001b[1;33m\u001b[0m\u001b[0m\n\u001b[1;32m--> 511\u001b[1;33m             \u001b[1;32mreturn\u001b[0m \u001b[1;32mlambda\u001b[0m \u001b[1;33m*\u001b[0m\u001b[0margs\u001b[0m\u001b[1;33m:\u001b[0m \u001b[0mval\u001b[0m\u001b[1;33m(\u001b[0m\u001b[1;33m*\u001b[0m\u001b[0mgp_fixargs\u001b[0m\u001b[1;33m(\u001b[0m\u001b[0margs\u001b[0m\u001b[1;33m,\u001b[0m \u001b[1;32mTrue\u001b[0m\u001b[1;33m)\u001b[0m\u001b[1;33m)\u001b[0m\u001b[1;33m\u001b[0m\u001b[1;33m\u001b[0m\u001b[0m\n\u001b[0m\u001b[0;32m    512\u001b[0m         \u001b[1;32melse\u001b[0m\u001b[1;33m:\u001b[0m\u001b[1;33m\u001b[0m\u001b[1;33m\u001b[0m\u001b[0m\n\u001b[0;32m    513\u001b[0m             \u001b[1;32mreturn\u001b[0m \u001b[0mconvertArcObjectToPythonObject\u001b[0m\u001b[1;33m(\u001b[0m\u001b[0mval\u001b[0m\u001b[1;33m)\u001b[0m\u001b[1;33m\u001b[0m\u001b[1;33m\u001b[0m\u001b[0m\n",
      "\u001b[1;31mExecuteError\u001b[0m: ERROR 160117: The value type is incompatible with the field type.\nFailed to execute (Statistics).\n\nFailed to execute (SplitByAttributes).\n"
     ]
    }
   ],
   "source": [
    "# split by route id (attributes [\"RouteAbbr\", \"DirName\"])\n",
    "replaceGDB(root_dir, f'routes_split_{year}')\n",
    "arcpy.SplitByAttributes_analysis(routesfc, os.path.join(root_dir, f'routes_split_{year}.gdb'), [\"RouteAbbr\", \"DirName\"])"
   ]
  },
  {
   "cell_type": "code",
   "execution_count": 13,
   "metadata": {},
   "outputs": [
    {
     "output_type": "stream",
     "name": "stdout",
     "text": [
      "hey\n"
     ]
    }
   ],
   "source": []
  }
 ],
 "metadata": {
  "kernelspec": {
   "name": "python3",
   "display_name": "Python 3",
   "language": "python"
  }
 },
 "nbformat": 4,
 "nbformat_minor": 4
}